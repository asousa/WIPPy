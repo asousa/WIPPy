{
 "cells": [
  {
   "cell_type": "code",
   "execution_count": 4,
   "metadata": {
    "collapsed": false
   },
   "outputs": [
    {
     "name": "stdout",
     "output_type": "stream",
     "text": [
      "The autoreload extension is already loaded. To reload it, use:\n",
      "  %reload_ext autoreload\n"
     ]
    }
   ],
   "source": [
    "import numpy as np\n",
    "import pandas as pd\n",
    "import pickle\n",
    "#from build_database import flux_obj\n",
    "from scipy import interpolate\n",
    "import matplotlib.pyplot as plt\n",
    "import os\n",
    "import itertools\n",
    "import random\n",
    "#%matplotlib inline\n",
    "# Autoload changes made in external editor:\n",
    "%load_ext autoreload\n",
    "%autoreload 2\n",
    "\n",
    "# --------------- Latex Plot Beautification --------------------------\n",
    "fig_width_pt = 650.0  # Get this from LaTeX using \\showthe\\columnwidth\n",
    "inches_per_pt = 1.0/72.27               # Convert pt to inch\n",
    "golden_mean = (np.sqrt(5)-1.0)/2.0         # Aesthetic ratio\n",
    "fig_width = fig_width_pt*inches_per_pt  # width in inches\n",
    "fig_height = fig_width*golden_mean      # height in inches\n",
    "fig_size =  [fig_width+1,fig_height+1]\n",
    "params = {'backend': 'ps',\n",
    "          'axes.labelsize': 14,\n",
    "          'text.fontsize': 14,\n",
    "          'legend.fontsize': 10,\n",
    "          'xtick.labelsize': 10,\n",
    "          'ytick.labelsize': 10,\n",
    "          'text.usetex': False,\n",
    "          'figure.figsize': fig_size}\n",
    "plt.rcParams.update(params)\n",
    "# --------------- Latex Plot Beautification --------------------------"
   ]
  },
  {
   "cell_type": "code",
   "execution_count": 22,
   "metadata": {
    "collapsed": false
   },
   "outputs": [
    {
     "name": "stdout",
     "output_type": "stream",
     "text": [
      "loading  /Users/austin/FUSE/shared/users/asousa/WIPP/WIPPy/python/newray200.dat\n",
      "loading  /Users/austin/FUSE/shared/users/asousa/WIPP/WIPPy/python/newray240.dat\n",
      "Ray starting at 31 degrees\n",
      "testing 1107 cases (coarse grid)\n",
      "Ray starting at 32 degrees\n",
      "testing 1105 cases (coarse grid)\n",
      "Ray starting at 33 degrees\n",
      "testing 1078 cases (coarse grid)\n",
      "Ray starting at 34 degrees\n",
      "testing 1030 cases (coarse grid)\n",
      "Ray starting at 35 degrees\n",
      "testing 969 cases (coarse grid)\n",
      "Ray starting at 36 degrees\n",
      "testing 899 cases (coarse grid)\n",
      "Ray starting at 37 degrees\n",
      "testing 818 cases (coarse grid)\n",
      "Ray starting at 38 degrees\n",
      "testing 734 cases (coarse grid)\n",
      "Ray starting at 39 degrees\n",
      "testing 649 cases (coarse grid)\n",
      "Ray starting at 40 degrees\n",
      "testing 563 cases (coarse grid)\n",
      "Ray starting at 41 degrees\n",
      "testing 483 cases (coarse grid)\n",
      "Ray starting at 42 degrees\n",
      "testing 404 cases (coarse grid)\n",
      "Ray starting at 43 degrees\n",
      "testing 335 cases (coarse grid)\n",
      "Ray starting at 44 degrees\n",
      "testing 266 cases (coarse grid)\n",
      "Elapsed time: 5.93181 seconds\n"
     ]
    }
   ],
   "source": [
    "from calc_scattering import calc_scattering\n",
    "import time\n",
    "\n",
    "directory='/Users/austin/FUSE/shared/users/asousa/WIPP/WIPPy/python/'\n",
    "center_lat=45\n",
    "lower_freq=200\n",
    "upper_freq=240\n",
    "L_shells=2.5\n",
    "I0 = -100000\n",
    "dlat = 1\n",
    "\n",
    "\n",
    "tstart = time.time()\n",
    "ray_crossings = calc_scattering(directory, I0, center_lat, lower_freq, upper_freq, L_shells, dlat)\n",
    "tstop = time.time()\n",
    "\n",
    "print \"Elapsed time: %g seconds\"%(tstop - tstart)"
   ]
  },
  {
   "cell_type": "code",
   "execution_count": 7,
   "metadata": {
    "collapsed": false
   },
   "outputs": [
    {
     "ename": "TypeError",
     "evalue": "'NoneType' object has no attribute '__getitem__'",
     "output_type": "error",
     "traceback": [
      "\u001b[0;31m---------------------------------------------------------------------------\u001b[0m",
      "\u001b[0;31mTypeError\u001b[0m                                 Traceback (most recent call last)",
      "\u001b[0;32m<ipython-input-7-91381e910c05>\u001b[0m in \u001b[0;36m<module>\u001b[0;34m()\u001b[0m\n\u001b[1;32m     36\u001b[0m \u001b[0;34m\u001b[0m\u001b[0m\n\u001b[1;32m     37\u001b[0m \u001b[0;31m# Plot Ray Crossing Segments\u001b[0m\u001b[0;34m\u001b[0m\u001b[0;34m\u001b[0m\u001b[0m\n\u001b[0;32m---> 38\u001b[0;31m \u001b[0mrayc\u001b[0m \u001b[0;34m=\u001b[0m \u001b[0mmc\u001b[0m\u001b[0;34m.\u001b[0m\u001b[0mLineCollection\u001b[0m\u001b[0;34m(\u001b[0m\u001b[0mray_crossings\u001b[0m\u001b[0;34m[\u001b[0m\u001b[0;36m1\u001b[0m\u001b[0;34m]\u001b[0m\u001b[0;34m.\u001b[0m\u001b[0mvalues\u001b[0m\u001b[0;34m(\u001b[0m\u001b[0;34m)\u001b[0m\u001b[0;34m,\u001b[0m\u001b[0mcolors\u001b[0m\u001b[0;34m=\u001b[0m\u001b[0;34m(\u001b[0m\u001b[0;36m0\u001b[0m\u001b[0;34m,\u001b[0m\u001b[0;36m0.5\u001b[0m\u001b[0;34m,\u001b[0m\u001b[0;36m0.5\u001b[0m\u001b[0;34m,\u001b[0m\u001b[0;36m1\u001b[0m\u001b[0;34m)\u001b[0m\u001b[0;34m)\u001b[0m\u001b[0;34m\u001b[0m\u001b[0m\n\u001b[0m\u001b[1;32m     39\u001b[0m \u001b[0;34m\u001b[0m\u001b[0m\n\u001b[1;32m     40\u001b[0m \u001b[0;34m\u001b[0m\u001b[0m\n",
      "\u001b[0;31mTypeError\u001b[0m: 'NoneType' object has no attribute '__getitem__'"
     ]
    }
   ],
   "source": [
    "# Plot the equal-area slices, along with fieldlines, to show that the coordinates are right.\n",
    "from calc_scattering import gen_EA_array\n",
    "from matplotlib import collections  as mc\n",
    "import sim_consts as sc\n",
    "\n",
    "L_targ = L_shells\n",
    "EA = gen_EA_array(L_targ)\n",
    "\n",
    "# Initialize plot\n",
    "fig, ax = plt.subplots()\n",
    "\n",
    "# Plot the earth\n",
    "earth = plt.Circle((0,0),1,color='k',alpha=0.3)\n",
    "\n",
    "# Plot the fieldline\n",
    "lam = np.linspace(-50,50,181)\n",
    "L_r = L_targ*pow(np.cos(lam*sc.D2R),2)\n",
    "Lx  = L_r*np.cos(lam*sc.D2R)\n",
    "Ly  = L_r*np.sin(lam*sc.D2R)\n",
    "\n",
    "# Plot the margin fieldlines\n",
    "Lmr1 = (L_targ + sc.L_MARGIN)*pow(np.cos(lam*sc.D2R),2)\n",
    "Lmr1x= Lmr1*np.cos(lam*sc.D2R)\n",
    "Lmr1y= Lmr1*np.sin(lam*sc.D2R)\n",
    "Lmr2 = (L_targ - sc.L_MARGIN)*pow(np.cos(lam*sc.D2R),2)\n",
    "Lmr2x= Lmr2*np.cos(lam*sc.D2R)\n",
    "Lmr2y= Lmr2*np.sin(lam*sc.D2R)\n",
    "\n",
    "# Plot Equal-Area slices\n",
    "po = zip(EA['x1'],EA['y1'])\n",
    "p1 = zip(EA['x2'],EA['y2'])\n",
    "points = zip(po, p1)\n",
    "lc = mc.LineCollection(points)\n",
    "\n",
    "# Plot Ray Crossing Segments\n",
    "rayc = mc.LineCollection(ray_crossings[1].values(),colors=(0,0.5,0.5,1))\n",
    "\n",
    "\n",
    "plt.plot(Lx,Ly,color='r',linewidth=2)  # Field line\n",
    "plt.plot(Lmr1x, Lmr1y,color='g')       # Outer boundary\n",
    "plt.plot(Lmr2x, Lmr2y,color='g')       # Inner boundary\n",
    "ax.add_patch(earth)                    # The earth (round)\n",
    "ax.add_collection(lc)                  # Equal-Area segments\n",
    "ax.add_collection(rayc)                # Crossed ray segments\n",
    "\n",
    "#ax.autoscale()\n",
    "ax.set_xlim([2.3,2.6])\n",
    "ax.set_ylim([-0.5,0.5])\n",
    "ax.set_xlabel('L')\n",
    "ax.set_ylabel('L')\n",
    "\n",
    "\n",
    "\n",
    "plt.show()"
   ]
  },
  {
   "cell_type": "code",
   "execution_count": null,
   "metadata": {
    "collapsed": false
   },
   "outputs": [],
   "source": [
    "tmp = ray_crossings[0]\n",
    "tmp.values()\n",
    "print np.shape(tmp.values())\n",
    "\n",
    "print tmp.values()\n",
    "\n",
    "\n",
    "#ray_segments = mc.LineCollection(tmp.values(),colors=(1,0,0,1))\n",
    "\n",
    "\n",
    "\n",
    "po_ray = []\n",
    "p1_ray = []\n",
    "for row in tmp.values():\n",
    "    po_ray.append(row[0])\n",
    "    p1_ray.append(row[1])\n",
    "\n",
    "\n"
   ]
  },
  {
   "cell_type": "code",
   "execution_count": null,
   "metadata": {
    "collapsed": false
   },
   "outputs": [],
   "source": [
    "print ray_crossings"
   ]
  },
  {
   "cell_type": "code",
   "execution_count": null,
   "metadata": {
    "collapsed": false
   },
   "outputs": [],
   "source": [
    "from load_rayfile import load_rayfile\n",
    "rf = load_rayfile(directory,200)\n",
    "\n",
    "tb = rf[35].ELE > 2.5\n",
    "#print rf[35].iloc[1]\n",
    "#print rf[35][tb]\n",
    "x = rf[35][tb]\n",
    "y = np.linspace(1,50,50)\n",
    "tmp = np.flat(np.outer(x,y))\n",
    "print np.shape(tmp)"
   ]
  },
  {
   "cell_type": "code",
   "execution_count": null,
   "metadata": {
    "collapsed": false
   },
   "outputs": [],
   "source": [
    "import sim_consts as sc\n",
    "\n",
    "#EA_NUMROWS = (sc.EALimN - sc.EALimS) / sc.EAIncr + 1\n",
    "#EA_NUMCOLS = 1 + 8*NUM_TARGS;\n",
    "\n",
    "lam_vec = np.arange(sc.EALimS,sc.EALimN, step=sc.EAIncr)\n",
    "L_TARG = 2.5\n",
    "\n",
    "# Trig functions\n",
    "clam = np.cos(lam_vec*sc.D2R)\n",
    "slam = np.sin(lam_vec*sc.D2R)\n",
    "clam2= pow(clam,2)\n",
    "slam2= pow(slam,2)\n",
    "rootTerm = np.sqrt(1 + 3*slam2)\n",
    "\n",
    "# dl_lam: still not sure where he gets this expression from\n",
    "dl_lam = (clam2*clam / rootTerm)*sc.DL0\n",
    "\n",
    "x_unit_vect = (3*clam2 - 2) / rootTerm\n",
    "y_unit_vect = (3*slam*clam) / rootTerm\n",
    "\n",
    "\n",
    "ptR = L_TARG*clam2  # Distance to field line (dipole model: r ~ L cos(latitude)^2 )\n",
    "ptX = ptR*clam      # Field line in Cartesian coordinates\n",
    "ptY = ptR*slam\n",
    "\n",
    "# Coordinates of the edges of the window\n",
    "x1 = ptX - x_unit_vect*dl_lam\n",
    "x2 = ptX + x_unit_vect*dl_lam\n",
    "y1 = ptY - y_unit_vect*dl_lam\n",
    "y2 = ptY + y_unit_vect*dl_lam\n",
    "\n",
    "# Output parameters:\n",
    "d = pd.DataFrame(index=lam_vec,columns=['x1','x2','y1','y2','EAa','EAb','EAc','EA_length'])\n",
    "d['EAa'] = y1 - y2\n",
    "d['EAb'] = x2 - x1\n",
    "d['EAc'] = x1*y2 - y1*x2\n",
    "d['EA_length'] = np.sqrt(pow(x1-x2,2)+pow(y1-y2,2))*sc.R_E\n",
    "d['x1'] = x1\n",
    "d['x2'] = x2\n",
    "d['y1'] = y1\n",
    "d['y2'] = y2\n",
    "\n",
    "#print d\n",
    "d['EA_length'].plot()\n"
   ]
  }
 ],
 "metadata": {
  "kernelspec": {
   "display_name": "Python 2",
   "language": "python",
   "name": "python2"
  },
  "language_info": {
   "codemirror_mode": {
    "name": "ipython",
    "version": 2
   },
   "file_extension": ".py",
   "mimetype": "text/x-python",
   "name": "python",
   "nbconvert_exporter": "python",
   "pygments_lexer": "ipython2",
   "version": "2.7.11"
  }
 },
 "nbformat": 4,
 "nbformat_minor": 0
}
