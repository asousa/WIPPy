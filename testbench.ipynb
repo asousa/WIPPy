{
 "cells": [
  {
   "cell_type": "code",
   "execution_count": 2,
   "metadata": {
    "collapsed": false
   },
   "outputs": [
    {
     "name": "stdout",
     "output_type": "stream",
     "text": [
      "The autoreload extension is already loaded. To reload it, use:\n",
      "  %reload_ext autoreload\n"
     ]
    }
   ],
   "source": [
    "import numpy as np\n",
    "import pandas as pd\n",
    "import pickle\n",
    "#from build_database import flux_obj\n",
    "from scipy import interpolate\n",
    "import matplotlib.pyplot as plt\n",
    "import os\n",
    "import itertools\n",
    "import random\n",
    "#%matplotlib inline\n",
    "# Autoload changes made in external editor:\n",
    "%load_ext autoreload\n",
    "%autoreload 2\n",
    "\n",
    "# --------------- Latex Plot Beautification --------------------------\n",
    "fig_width_pt = 650.0  # Get this from LaTeX using \\showthe\\columnwidth\n",
    "inches_per_pt = 1.0/72.27               # Convert pt to inch\n",
    "golden_mean = (np.sqrt(5)-1.0)/2.0         # Aesthetic ratio\n",
    "fig_width = fig_width_pt*inches_per_pt  # width in inches\n",
    "fig_height = fig_width*golden_mean      # height in inches\n",
    "fig_size =  [fig_width+1,fig_height+1]\n",
    "params = {'backend': 'ps',\n",
    "          'axes.labelsize': 14,\n",
    "          'text.fontsize': 14,\n",
    "          'legend.fontsize': 10,\n",
    "          'xtick.labelsize': 10,\n",
    "          'ytick.labelsize': 10,\n",
    "          'text.usetex': False,\n",
    "          'figure.figsize': fig_size}\n",
    "plt.rcParams.update(params)\n",
    "# --------------- Latex Plot Beautification --------------------------"
   ]
  },
  {
   "cell_type": "code",
   "execution_count": 8,
   "metadata": {
    "collapsed": false,
    "scrolled": true
   },
   "outputs": [
    {
     "name": "stdout",
     "output_type": "stream",
     "text": [
      "loading  /Users/austin/FUSE/shared/users/asousa/WIPP/WIPPy/rays/kp0_30sec/newray200.dat\n",
      "loading  /Users/austin/FUSE/shared/users/asousa/WIPP/WIPPy/rays/kp0_30sec/newray240.dat\n",
      "Ray starting at 44 degrees\n",
      "DIV_LAT_NUM: 11.0\n",
      "DIV_FREQ_NUM: 2.0\n",
      "Latitude interpolating steps:   [ 0.   0.1  0.2  0.3  0.4  0.5  0.6  0.7  0.8  0.9  1. ]\n",
      "Frequency interpolating steps:  [ 0.  1.]\n",
      "center_lat:  45\n",
      "dlat: 1.0\n",
      "dfreq: 40\n",
      "MAX_POWER: 0.000866983547658\n",
      "testing 37 cases (coarse grid)\n",
      "(151, 22)\n",
      "Ray starting at 45 degrees\n",
      "DIV_LAT_NUM: 11.0\n",
      "DIV_FREQ_NUM: 2.0\n",
      "Latitude interpolating steps:   [ 0.   0.1  0.2  0.3  0.4  0.5  0.6  0.7  0.8  0.9  1. ]\n",
      "Frequency interpolating steps:  [ 0.  1.]\n",
      "center_lat:  45\n",
      "dlat: 1.0\n",
      "dfreq: 40\n",
      "MAX_POWER: 0.000866983547658\n",
      "testing 31 cases (coarse grid)\n",
      "(136, 22)\n",
      "Elapsed time (Interpolation and crossing detection): 0.41739 seconds\n"
     ]
    }
   ],
   "source": [
    "from calc_scattering import calc_scattering\n",
    "import sim_consts as sc\n",
    "import time\n",
    "\n",
    "#directory='/Users/austin/FUSE/shared/users/asousa/WIPP/WIPPy/python/'\n",
    "ray_directory='/Users/austin/FUSE/shared/users/asousa/WIPP/WIPPy/rays/kp0_30sec/'\n",
    "code_directory='/Users/austin/FUSE/shared/users/asousa/WIPP/WIPPy/python/c/'\n",
    "\n",
    "center_lat=45\n",
    "lower_freq=200\n",
    "upper_freq=240\n",
    "L_shells= 3.0 #3.0 #2.5\n",
    "I0 = -100000.0\n",
    "#dlat = 1\n",
    "\n",
    "\n",
    "#tstart = time.time()\n",
    "ray_crossings = calc_scattering(ray_directory, I0, center_lat, lower_freq, upper_freq, L_shells)\n",
    "#tstop = time.time()\n",
    "\n",
    "#print \"Elapsed time: %g seconds\"%(tstop - tstart)"
   ]
  },
  {
   "cell_type": "code",
   "execution_count": 10,
   "metadata": {
    "collapsed": false,
    "scrolled": true
   },
   "outputs": [
    {
     "name": "stdout",
     "output_type": "stream",
     "text": [
      "loading  /Users/austin/FUSE/shared/users/asousa/WIPP/WIPPy/rays/kp0_30sec/newray200.dat\n",
      "[  7.   8.   9.  10.  11.  12.  13.  14.  15.  16.  17.  18.  19.  20.  21.\n",
      "  22.  23.  24.  25.  26.  27.  28.  29.  30.  31.  32.  33.  34.  35.  36.\n",
      "  37.  38.  39.  40.  41.  42.  43.  44.  45.  46.  47.  48.  49.  50.  51.\n",
      "  52.  53.  54.  55.  56.  57.  58.  59.  60.  61.  62.  63.  64.  65.  66.\n",
      "  67.  68.  69.  70.  71.  72.  73.  74.  75.  76.  77.  78.  79.]\n",
      "loading  /Users/austin/FUSE/shared/users/asousa/WIPP/WIPPy/rays/kp0_30sec/newray240.dat\n"
     ]
    }
   ],
   "source": [
    "# Plot the equal-area slices, along with fieldlines, to show that the coordinates are right.\n",
    "from calc_scattering import gen_EA_array\n",
    "from matplotlib import collections  as mc\n",
    "import sim_consts as sc\n",
    "\n",
    "L_targ = L_shells\n",
    "EA = gen_EA_array(L_targ)\n",
    "\n",
    "# Initialize plot\n",
    "fig, ax = plt.subplots()\n",
    "\n",
    "# Plot the earth\n",
    "earth = plt.Circle((0,0),1,color='k',alpha=0.3)\n",
    "\n",
    "# Plot the fieldline\n",
    "lam = np.linspace(-50,50,181)\n",
    "L_r = L_targ*pow(np.cos(lam*sc.D2R),2)\n",
    "Lx  = L_r*np.cos(lam*sc.D2R)\n",
    "Ly  = L_r*np.sin(lam*sc.D2R)\n",
    "\n",
    "# Plot the margin fieldlines\n",
    "Lmr1 = (L_targ + sc.L_MARGIN)*pow(np.cos(lam*sc.D2R),2)\n",
    "Lmr1x= Lmr1*np.cos(lam*sc.D2R)\n",
    "Lmr1y= Lmr1*np.sin(lam*sc.D2R)\n",
    "Lmr2 = (L_targ - sc.L_MARGIN)*pow(np.cos(lam*sc.D2R),2)\n",
    "Lmr2x= Lmr2*np.cos(lam*sc.D2R)\n",
    "Lmr2y= Lmr2*np.sin(lam*sc.D2R)\n",
    "\n",
    "# Plot Equal-Area slices\n",
    "po = zip(EA['x1'],EA['y1'])\n",
    "p1 = zip(EA['x2'],EA['y2'])\n",
    "points = zip(po, p1)\n",
    "lc = mc.LineCollection(points)\n",
    "\n",
    "# Plot Ray Crossing Segments\n",
    "rayc = mc.LineCollection(ray_crossings['cross_coords'],colors=(0,0.5,0.5,1),linewidth=3)\n",
    "\n",
    "\n",
    "plt.plot(Lx,Ly,color='r',linewidth=2)  # Field line\n",
    "plt.plot(Lmr1x, Lmr1y,color='g')       # Outer boundary\n",
    "plt.plot(Lmr2x, Lmr2y,color='g')       # Inner boundary\n",
    "ax.add_patch(earth)                    # The earth (round)\n",
    "ax.add_collection(lc)                  # Equal-Area segments\n",
    "ax.add_collection(rayc)                # Crossed ray segments\n",
    "\n",
    "ax.autoscale()\n",
    "ax.set_xlim([L_targ - 2*sc.L_MARGIN,L_targ + 1.5*sc.L_MARGIN])\n",
    "ax.set_ylim([-0.8,0.8])\n",
    "ax.set_xlabel('L')\n",
    "ax.set_ylabel('L')\n",
    "\n",
    "\n",
    "# Add in the segments\n",
    "from matplotlib import collections  as mc\n",
    "from load_rayfile import load_rayfile\n",
    "#directory = '/Users/austin/FUSE/shared/users/asousa/WIPP/WIPPy/debugging'\n",
    "\n",
    "l_min = center_lat - sc.LAT_SPREAD/2\n",
    "l_max = center_lat + sc.LAT_SPREAD/2\n",
    "\n",
    "t_min = 0\n",
    "t_max = 15\n",
    "\n",
    "\n",
    "\n",
    "\n",
    "# Print the C-model crossings (if we want)\n",
    "Ccross = pd.read_csv(os.path.join(code_directory, 'crossing_log.txt'),header=None,sep=' ')\n",
    "Ccross.columns=['CROSSING','t','r1','r2','lat1','lat2']\n",
    "\n",
    "X_prev = Ccross.r1*np.cos(Ccross.lat1*np.pi/180.0)\n",
    "Y_prev = Ccross.r1*np.sin(Ccross.lat1*np.pi/180.0)\n",
    "X_curr = Ccross.r2*np.cos(Ccross.lat2*np.pi/180.0)\n",
    "Y_curr = Ccross.r2*np.sin(Ccross.lat2*np.pi/180.0)\n",
    "\n",
    "p1 = zip(X_prev,Y_prev)\n",
    "p2 = zip(X_curr,Y_curr)\n",
    "points = zip(p1, p2)\n",
    "\n",
    "cc = mc.LineCollection(points,colors=(0.5,0,0.5,1),linewidth=1, alpha=0.5)\n",
    "ax.add_collection(cc)\n",
    "\n",
    "\n",
    "# Plot the rays\n",
    "RF = load_rayfile(ray_directory, lower_freq)\n",
    "\n",
    "all_lats = np.array(sorted(RF.keys()))\n",
    "lats = all_lats[(all_lats >= l_min) & (all_lats <= l_max)]\n",
    "print all_lats\n",
    "\n",
    "for l in lats:    \n",
    "    X = RF[l].distre*np.cos(RF[l].lat[(RF[l].tg > t_min) & (RF[l].tg < t_max)]*np.pi/180.0)\n",
    "    Y = RF[l].distre*np.sin(RF[l].lat[(RF[l].tg > t_min) & (RF[l].tg < t_max)]*np.pi/180.0)\n",
    "    # pick colormap here\n",
    "    C = plt.cm.viridis(RF[l].power)\n",
    "    points = np.array([X, Y]).T.reshape(-1, 1, 2)\n",
    "    segments = np.concatenate([points[:-1], points[1:]], axis=1)\n",
    "\n",
    "    lc = mc.LineCollection(segments, colors=C,alpha=0.3,linewidth=3)\n",
    "\n",
    "    ax.add_collection(lc)\n",
    "\n",
    "\n",
    "RF = load_rayfile(ray_directory, upper_freq)\n",
    "for l in lats:    \n",
    "    X = RF[l].distre*np.cos(RF[l].lat[(RF[l].tg > t_min) & (RF[l].tg < t_max)]*np.pi/180.0)\n",
    "    Y = RF[l].distre*np.sin(RF[l].lat[(RF[l].tg > t_min) & (RF[l].tg < t_max)]*np.pi/180.0)\n",
    "    # pick colormap here\n",
    "    C = plt.cm.viridis(RF[l].power)\n",
    "    points = np.array([X, Y]).T.reshape(-1, 1, 2)\n",
    "    segments = np.concatenate([points[:-1], points[1:]], axis=1)\n",
    "\n",
    "    lc = mc.LineCollection(segments, colors=C,alpha=0.3,linewidth=3)\n",
    "#     lc.set_linewidth(10)\n",
    "\n",
    "    ax.add_collection(lc)\n",
    "    \n",
    "\n",
    "ax.autoscale()\n",
    "# ax.set_xlim([2.5,3.5])\n",
    "# ax.set_ylim([-0.2, 1])\n",
    "ax.set_xlabel('L')\n",
    "ax.set_ylabel('L')\n",
    "\n",
    "\n",
    "\n",
    "plt.show()\n",
    "\n",
    "\n",
    "\n"
   ]
  },
  {
   "cell_type": "code",
   "execution_count": null,
   "metadata": {
    "collapsed": false,
    "scrolled": true
   },
   "outputs": [],
   "source": [
    "print ray_crossings['cross_coords'].shape\n",
    "\n",
    "from calc_scattering import calc_resonant_pitchangle_change\n",
    "from calc_scattering import gen_EA_array\n",
    "from calc_scattering import get_flight_time_constant\n",
    "\n",
    "L_targ = L_shells\n",
    "EA_array = gen_EA_array(L_targ)\n",
    "\n",
    "# print EA_array\n",
    "DA_N, DA_S = calc_resonant_pitchangle_change(ray_crossings, L_targ)\n"
   ]
  },
  {
   "cell_type": "code",
   "execution_count": null,
   "metadata": {
    "collapsed": false
   },
   "outputs": [],
   "source": [
    "tvec = np.linspace(0, sc.T_MAX,sc.NUM_STEPS)\n",
    "\n",
    "ax1 = plt.subplot(2,1,1)\n",
    "plt.pcolor(tvec, (sc.E_tot_arr*1e-6), DA_N)\n",
    "#plt.imshow(DA_N)\n",
    "plt.ylabel('Energy (MeV)')\n",
    "\n",
    "ax2 = plt.subplot(2,1,2)\n",
    "plt.pcolor(tvec, (sc.E_tot_arr*1e-6), DA_S)\n",
    "#plt.imshow(DA_S)\n",
    "plt.xlabel('Time (sec)')\n",
    "plt.ylabel('Energy (MeV)')\n",
    "plt.show()"
   ]
  },
  {
   "cell_type": "code",
   "execution_count": null,
   "metadata": {
    "collapsed": false
   },
   "outputs": [],
   "source": [
    "\n",
    "\n",
    "print np.max(DA_N)\n",
    "print np.max(DA_S)\n",
    "print np.sum(DA_N!=0)\n",
    "\n",
    "\n",
    "a,b = np.where(DA_N==np.max(DA_N))\n",
    "#print a, b\n",
    "#print DA_N[a,b]\n",
    "\n",
    "print DA_N[a,b]\n",
    "# plt.figure()\n",
    "\n",
    "# plt.plot(DA_N[a,:])\n",
    "# plt.show"
   ]
  },
  {
   "cell_type": "code",
   "execution_count": null,
   "metadata": {
    "collapsed": false
   },
   "outputs": [],
   "source": [
    "from load_rayfile import load_rayfile\n",
    "rlf = load_rayfile('/Users/austin/FUSE/shared/users/asousa/WIPP/WIPPy/rays/full_kp0_15sec/',1000)\n",
    "print sorted(rlf.keys())"
   ]
  },
  {
   "cell_type": "code",
   "execution_count": null,
   "metadata": {
    "collapsed": false
   },
   "outputs": [],
   "source": [
    "dlat = 1\n",
    "dfreq = 50\n",
    "\n",
    "DIV_LAT_NUM = np.ceil(dlat/sc.LAT_STEP + 1)\n",
    "DIV_FREQ_NUM = np.ceil(dfreq/sc.F_STEP + 1)\n",
    "lat_fine_grid = np.linspace(0, 1, DIV_LAT_NUM)\n",
    "freq_fine_grid= np.linspace(0, 1, DIV_FREQ_NUM)\n",
    "print \"Latitude interpolating steps:  \", lat_fine_grid\n",
    "print \"Frequency interpolating steps: \", freq_fine_grid\n",
    "interp_grid = []\n",
    "\n",
    "import itertools\n",
    "\n",
    "#tmp = np.array(itertools.product(lat_fine_grid, freq_fine_grid))\n",
    "tmp = np.array([(x,y) for x in lat_fine_grid for y in freq_fine_grid])\n",
    "#tmp = np.array(zip(np.tile(lat_fine_grid, DIV_FREQ_NUM), np.tile(freq_fine_grid, DIV_LAT_NUM)))\n",
    "for l in lat_fine_grid:\n",
    "    for f in freq_fine_grid:\n",
    "        interp_grid.append([l, f])\n",
    "\n",
    "interp_grid = np.array(interp_grid)\n",
    "print tmp\n",
    "print interp_grid\n",
    "\n",
    "\n",
    "fine_grid_size = DIV_LAT_NUM*DIV_FREQ_NUM"
   ]
  },
  {
   "cell_type": "code",
   "execution_count": null,
   "metadata": {
    "collapsed": false
   },
   "outputs": [],
   "source": [
    "print [(k, len(rlf[k])) for k in rlf.keys() ]"
   ]
  }
 ],
 "metadata": {
  "kernelspec": {
   "display_name": "Python 2",
   "language": "python",
   "name": "python2"
  },
  "language_info": {
   "codemirror_mode": {
    "name": "ipython",
    "version": 2
   },
   "file_extension": ".py",
   "mimetype": "text/x-python",
   "name": "python",
   "nbconvert_exporter": "python",
   "pygments_lexer": "ipython2",
   "version": "2.7.11"
  }
 },
 "nbformat": 4,
 "nbformat_minor": 0
}
