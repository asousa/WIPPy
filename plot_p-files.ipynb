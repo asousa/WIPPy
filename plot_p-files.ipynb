{
 "cells": [
  {
   "cell_type": "code",
   "execution_count": 6,
   "metadata": {
    "collapsed": false
   },
   "outputs": [
    {
     "name": "stdout",
     "output_type": "stream",
     "text": [
      "The autoreload extension is already loaded. To reload it, use:\n",
      "  %reload_ext autoreload\n"
     ]
    }
   ],
   "source": [
    "import numpy as np\n",
    "import pandas as pd\n",
    "import pickle\n",
    "#from build_database import flux_obj\n",
    "from scipy import interpolate\n",
    "import matplotlib.pyplot as plt\n",
    "import os\n",
    "import itertools\n",
    "import random\n",
    "import os\n",
    "# %matplotlib inline\n",
    "# Autoload changes made in external editor:\n",
    "%load_ext autoreload\n",
    "%autoreload 2\n",
    "\n",
    "# --------------- Latex Plot Beautification --------------------------\n",
    "fig_width_pt = 650.0  # Get this from LaTeX using \\showthe\\columnwidth\n",
    "inches_per_pt = 1.0/72.27               # Convert pt to inch\n",
    "golden_mean = (np.sqrt(5)-1.0)/2.0         # Aesthetic ratio\n",
    "fig_width = fig_width_pt*inches_per_pt  # width in inches\n",
    "fig_height = fig_width*golden_mean      # height in inches\n",
    "fig_size =  [fig_width+1,fig_height+1]\n",
    "params = {'backend': 'ps',\n",
    "          'axes.labelsize': 14,\n",
    "          'text.fontsize': 14,\n",
    "          'legend.fontsize': 10,\n",
    "          'xtick.labelsize': 14,\n",
    "          'ytick.labelsize': 14,\n",
    "          'text.usetex': False,\n",
    "          'figure.figsize': fig_size}\n",
    "plt.rcParams.update(params)\n",
    "# --------------- Latex Plot Beautification --------------------------"
   ]
  },
  {
   "cell_type": "code",
   "execution_count": 42,
   "metadata": {
    "collapsed": false
   },
   "outputs": [
    {
     "name": "stdout",
     "output_type": "stream",
     "text": [
      "(129, 512, 2000)\n",
      "-0.582335053422\n",
      "-7.0\n",
      "0.189599615414\n",
      "780060\n"
     ]
    }
   ],
   "source": [
    "import re\n",
    "\n",
    "# ------------------------------------------------\n",
    "# Loads all pN, pS files in a directory, sorted by frequency\n",
    "# returns: pN, pS (nFreqs x nTimes x nEnergies numpy arrays)\n",
    "# ------------------------------------------------\n",
    "def load_pfiles(directory, L):\n",
    "    # Get files, frequencies:\n",
    "    d = os.listdir(directory)\n",
    "\n",
    "\n",
    "    freqs_pN = []\n",
    "    freqs_pS = []\n",
    "    l_pN = []\n",
    "    l_pS = []\n",
    "\n",
    "    p = re.compile(\"\\d+\")\n",
    "    for s in d:\n",
    "        if s.endswith(\".dat\"):\n",
    "            if s.startswith('pN'):\n",
    "                tmp = p.findall(s)\n",
    "                freqs_pN.append(int(tmp[0]))\n",
    "                l_pN.append(float(tmp[1]))\n",
    "\n",
    "            elif s.startswith('pS'):\n",
    "                tmp = p.findall(s)\n",
    "                freqs_pS.append(int(tmp[0]))\n",
    "                l_pS.append(float(tmp[1]))\n",
    "\n",
    "    freqs_pN.sort()\n",
    "    freqs_pS.sort()\n",
    "\n",
    "    # print l_pN\n",
    "    assert freqs_pN == freqs_pS, \"frequency mismatch!\"\n",
    "\n",
    "    freqs = freqs_pN\n",
    "\n",
    "    #Pre-allocate\n",
    "    pN = np.zeros((len(freqs), sc.NUM_E, sc.NUM_STEPS))\n",
    "    pS = np.zeros((len(freqs), sc.NUM_E, sc.NUM_STEPS))\n",
    "\n",
    "\n",
    "    # Binary files -- little endian, four-byte floats\n",
    "    dt = np.dtype('<f4')\n",
    "\n",
    "    # for f, l in zip(freqs, l_pN):\n",
    "    for f_ind, f in enumerate(freqs):\n",
    "        # for binary-formatted files\n",
    "        tmp_N = np.fromfile(os.path.join(directory,'pN%d_%g.dat'%(f,L)),dtype=np.dtype('<f4'))\n",
    "        pN[f_ind, :,:] = tmp_N.reshape(sc.NUM_E, sc.NUM_STEPS, order='c')\n",
    "        tmp_S = np.fromfile(os.path.join(directory,'pS%d_%g.dat'%(f,L)),dtype=np.dtype('<f4'))\n",
    "        pS[f_ind, :,:] = tmp_S.reshape(sc.NUM_E, sc.NUM_STEPS, order='c')\n",
    "        \n",
    "        # For ASCII-formatted files\n",
    "#         pN.append(np.loadtxt(os.path.join(directory,\"pN%d_%d.dat\"%(f,L))))\n",
    "#         pS.append(np.loadtxt(os.path.join(directory,\"pS%d_%d.dat\"%(f,L))))\n",
    "        \n",
    "    #print np.shape(pN)\n",
    "    #print np.shape(pS)\n",
    "    return pN, pS\n",
    "\n",
    "L = 3\n",
    "directory = '/Users/austin/FUSE/shared/users/asousa/WIPP/WIPPy/python/c/out_binfiles/' \n",
    "\n",
    "#pN, pS = load_pfiles(directory, L)\n",
    "\n",
    "print np.shape(pN)\n",
    "\n",
    "plot_pN_pS(np.sqrt(np.sum(pN, axis=0)), np.sqrt(np.sum(pS, axis=0)), sc)"
   ]
  },
  {
   "cell_type": "code",
   "execution_count": 30,
   "metadata": {
    "collapsed": false
   },
   "outputs": [],
   "source": [
    "from calc_scattering import calc_scattering\n",
    "import sim_consts as sc\n",
    "import time\n",
    "from matplotlib.colors import LogNorm\n",
    "\n",
    "# ----------------------------------------------------------------------------\n",
    "# Plot a single time-energy deflection matrix\n",
    "# ----------------------------------------------------------------------------\n",
    "\n",
    "def plot_pN_pS(pN, pS, sc):\n",
    "#     pN_file=os.path.join(directory, 'pN%g_%g.dat'%(f,L))\n",
    "#     pS_file=os.path.join(directory, 'pS%g_%g.dat'%(f,L))\n",
    "\n",
    "#     # This version for text files\n",
    "#     pN = np.loadtxt(pN_file)\n",
    "#     pS = np.loadtxt(pS_file)\n",
    "#     #pN = np.flipud(pN)\n",
    "#     #pS = np.flipud(pS)\n",
    "\n",
    "    tvec = np.linspace(sc.T_STEP,sc.T_MAX,sc.NUM_STEPS)\n",
    "\n",
    "    clims = [-7, 0]\n",
    "\n",
    "\n",
    "    pN_P = np.log10(pN)\n",
    "    np.clip(pN_P,clims[0],clims[1],out=pN_P)\n",
    "\n",
    "    pS_P = np.log10(pS)\n",
    "    np.clip(pS_P,clims[0],clims[1],out=pS_P)\n",
    "\n",
    "    fig = plt.figure()\n",
    "    ax1 = fig.add_subplot(211)\n",
    "    ax2 = fig.add_subplot(212)\n",
    "\n",
    "    # The goods\n",
    "    p1 = ax1.imshow(pN_P,origin='lower',aspect='auto')\n",
    "    p1.set_clim(clims)\n",
    "    p2 = ax2.imshow(pS_P,origin='lower',aspect='auto')\n",
    "    p2.set_clim(clims)\n",
    "\n",
    "    # Colorbar\n",
    "#    cax = fig.add_axes([0.77, 0.12, 0.025, 0.78])\n",
    "    cax = fig.add_axes([0.92, 0.12, 0.025, 0.78])\n",
    "    fig.colorbar(p1,cax=cax)\n",
    "\n",
    "    # Label axes\n",
    "    \n",
    "    tlabels = np.arange(1,np.floor(sc.T_MAX))\n",
    "    tinds =  [np.argmax(tt <= tvec) for tt in tlabels]\n",
    "    ax2.set_xticks(tinds)\n",
    "    tlabel_strings = ['%d'%k for k in tlabels]\n",
    "    ax2.set_xticklabels(tlabel_strings)\n",
    "    \n",
    "\n",
    "    ax1.get_xaxis().set_visible(False)\n",
    "#     ax2.set_xticks(np.floor(np.linspace(0,sc.NUM_STEPS-1,sc.T_MAX + 1)))\n",
    "#     ax2.set_xticklabels(np.floor(tvec[ax2.get_xticks().astype(int)]))\n",
    "\n",
    "    # Label each power of 10\n",
    "    logvals = np.arange(np.log10(sc.E_MIN), np.log10(sc.E_MAX)+1)\n",
    "    einds =  [np.argmax(lv <= np.log10(sc.E_tot_arr)) for lv in logvals]\n",
    "    einds[-1] = sc.NUM_E - 1 \n",
    "\n",
    "    ylabel_strings = ['$10^%d$'%k for k in logvals]\n",
    "    ax1.set_yticks(einds)\n",
    "    ax1.set_yticklabels(ylabel_strings)\n",
    "    ax2.set_yticks(einds)\n",
    "    ax2.set_yticklabels(ylabel_strings)\n",
    "\n",
    "#     fig.subplots_adjust(hspace=0.03, wspace=0.05)\n",
    "    fig.canvas.draw()\n",
    "    plt.show()\n",
    "\n",
    "    print np.max(pN_P)\n",
    "    print np.min(pN_P)\n",
    "    print np.max(pS)\n",
    "    print sum(sum((pN!=0)))\n",
    "\n",
    "# plot_pN_pS(np.sqrt(np.sum(pN, axis=0)), np.sqrt(np.sum(pS, axis=0)), sc)"
   ]
  },
  {
   "cell_type": "code",
   "execution_count": 35,
   "metadata": {
    "collapsed": false
   },
   "outputs": [
    {
     "ename": "IOError",
     "evalue": "[Errno 2] No such file or directory: '/Users/austin/FUSE/shared/users/asousa/WIPP/WIPPy/python/c/out_binfiles/pN0_3.dat'",
     "output_type": "error",
     "traceback": [
      "\u001b[0;31m---------------------------------------------------------------------------\u001b[0m",
      "\u001b[0;31mIOError\u001b[0m                                   Traceback (most recent call last)",
      "\u001b[0;32m<ipython-input-35-8f686e2174f1>\u001b[0m in \u001b[0;36m<module>\u001b[0;34m()\u001b[0m\n\u001b[1;32m      2\u001b[0m \u001b[0mdirectory\u001b[0m \u001b[0;34m=\u001b[0m \u001b[0;34m'/Users/austin/FUSE/shared/users/asousa/WIPP/WIPPy/python/c/out_binfiles/'\u001b[0m\u001b[0;34m\u001b[0m\u001b[0m\n\u001b[1;32m      3\u001b[0m \u001b[0;34m\u001b[0m\u001b[0m\n\u001b[0;32m----> 4\u001b[0;31m \u001b[0mpN\u001b[0m\u001b[0;34m,\u001b[0m \u001b[0mpS\u001b[0m \u001b[0;34m=\u001b[0m \u001b[0mload_pfiles\u001b[0m\u001b[0;34m(\u001b[0m\u001b[0mdirectory\u001b[0m\u001b[0;34m,\u001b[0m \u001b[0mL\u001b[0m\u001b[0;34m)\u001b[0m\u001b[0;34m\u001b[0m\u001b[0m\n\u001b[0m\u001b[1;32m      5\u001b[0m \u001b[0;34m\u001b[0m\u001b[0m\n\u001b[1;32m      6\u001b[0m \u001b[0;32mprint\u001b[0m \u001b[0mnp\u001b[0m\u001b[0;34m.\u001b[0m\u001b[0mshape\u001b[0m\u001b[0;34m(\u001b[0m\u001b[0mpN\u001b[0m\u001b[0;34m)\u001b[0m\u001b[0;34m\u001b[0m\u001b[0m\n",
      "\u001b[0;32m<ipython-input-34-8cf43af927d7>\u001b[0m in \u001b[0;36mload_pfiles\u001b[0;34m(directory, L)\u001b[0m\n\u001b[1;32m     45\u001b[0m     \u001b[0;31m# for f, l in zip(freqs, l_pN):\u001b[0m\u001b[0;34m\u001b[0m\u001b[0;34m\u001b[0m\u001b[0m\n\u001b[1;32m     46\u001b[0m     \u001b[0;32mfor\u001b[0m \u001b[0mf\u001b[0m\u001b[0;34m,\u001b[0m \u001b[0mf_ind\u001b[0m \u001b[0;32min\u001b[0m \u001b[0menumerate\u001b[0m\u001b[0;34m(\u001b[0m\u001b[0mfreqs\u001b[0m\u001b[0;34m)\u001b[0m\u001b[0;34m:\u001b[0m\u001b[0;34m\u001b[0m\u001b[0m\n\u001b[0;32m---> 47\u001b[0;31m         \u001b[0mtmp_N\u001b[0m \u001b[0;34m=\u001b[0m \u001b[0mnp\u001b[0m\u001b[0;34m.\u001b[0m\u001b[0mfromfile\u001b[0m\u001b[0;34m(\u001b[0m\u001b[0mos\u001b[0m\u001b[0;34m.\u001b[0m\u001b[0mpath\u001b[0m\u001b[0;34m.\u001b[0m\u001b[0mjoin\u001b[0m\u001b[0;34m(\u001b[0m\u001b[0mdirectory\u001b[0m\u001b[0;34m,\u001b[0m\u001b[0;34m'pN%d_%g.dat'\u001b[0m\u001b[0;34m%\u001b[0m\u001b[0;34m(\u001b[0m\u001b[0mf\u001b[0m\u001b[0;34m,\u001b[0m\u001b[0mL\u001b[0m\u001b[0;34m)\u001b[0m\u001b[0;34m)\u001b[0m\u001b[0;34m,\u001b[0m\u001b[0mdtype\u001b[0m\u001b[0;34m=\u001b[0m\u001b[0mnp\u001b[0m\u001b[0;34m.\u001b[0m\u001b[0mdtype\u001b[0m\u001b[0;34m(\u001b[0m\u001b[0;34m'<f4'\u001b[0m\u001b[0;34m)\u001b[0m\u001b[0;34m)\u001b[0m\u001b[0;34m\u001b[0m\u001b[0m\n\u001b[0m\u001b[1;32m     48\u001b[0m         \u001b[0mpN\u001b[0m\u001b[0;34m[\u001b[0m\u001b[0mf_ind\u001b[0m\u001b[0;34m,\u001b[0m \u001b[0;34m:\u001b[0m\u001b[0;34m,\u001b[0m\u001b[0;34m:\u001b[0m\u001b[0;34m]\u001b[0m \u001b[0;34m=\u001b[0m \u001b[0mtmp_N\u001b[0m\u001b[0;34m.\u001b[0m\u001b[0mreshape\u001b[0m\u001b[0;34m(\u001b[0m\u001b[0msc\u001b[0m\u001b[0;34m.\u001b[0m\u001b[0mNUM_E\u001b[0m\u001b[0;34m,\u001b[0m \u001b[0msc\u001b[0m\u001b[0;34m.\u001b[0m\u001b[0mNUM_STEPS\u001b[0m\u001b[0;34m,\u001b[0m \u001b[0morder\u001b[0m\u001b[0;34m=\u001b[0m\u001b[0;34m'c'\u001b[0m\u001b[0;34m)\u001b[0m\u001b[0;34m\u001b[0m\u001b[0m\n\u001b[1;32m     49\u001b[0m         \u001b[0mtmp_S\u001b[0m \u001b[0;34m=\u001b[0m \u001b[0mnp\u001b[0m\u001b[0;34m.\u001b[0m\u001b[0mfromfile\u001b[0m\u001b[0;34m(\u001b[0m\u001b[0mos\u001b[0m\u001b[0;34m.\u001b[0m\u001b[0mpath\u001b[0m\u001b[0;34m.\u001b[0m\u001b[0mjoin\u001b[0m\u001b[0;34m(\u001b[0m\u001b[0mdirectory\u001b[0m\u001b[0;34m,\u001b[0m\u001b[0;34m'pS%d_%g.dat'\u001b[0m\u001b[0;34m%\u001b[0m\u001b[0;34m(\u001b[0m\u001b[0mf\u001b[0m\u001b[0;34m,\u001b[0m\u001b[0mL\u001b[0m\u001b[0;34m)\u001b[0m\u001b[0;34m)\u001b[0m\u001b[0;34m,\u001b[0m\u001b[0mdtype\u001b[0m\u001b[0;34m=\u001b[0m\u001b[0mnp\u001b[0m\u001b[0;34m.\u001b[0m\u001b[0mdtype\u001b[0m\u001b[0;34m(\u001b[0m\u001b[0;34m'<f4'\u001b[0m\u001b[0;34m)\u001b[0m\u001b[0;34m)\u001b[0m\u001b[0;34m\u001b[0m\u001b[0m\n",
      "\u001b[0;31mIOError\u001b[0m: [Errno 2] No such file or directory: '/Users/austin/FUSE/shared/users/asousa/WIPP/WIPPy/python/c/out_binfiles/pN0_3.dat'"
     ]
    }
   ],
   "source": [
    "L = 3\n",
    "directory = '/Users/austin/FUSE/shared/users/asousa/WIPP/WIPPy/python/c/out_binfiles/' \n",
    "\n",
    "pN, pS = load_pfiles(directory, L)\n",
    "\n",
    "print np.shape(pN)\n",
    "\n",
    "plot_pN_pS(np.sqrt(np.sum(pN, axis=0)), np.sqrt(np.sum(pS, axis=0)), sc)"
   ]
  },
  {
   "cell_type": "code",
   "execution_count": null,
   "metadata": {
    "collapsed": false
   },
   "outputs": [],
   "source": [
    "np.shape(pN)\n",
    "\n",
    "plot_pN_pS(np.sum(pN, axis=0), np.sum(pS, axis=0), sc)"
   ]
  },
  {
   "cell_type": "code",
   "execution_count": null,
   "metadata": {
    "collapsed": false
   },
   "outputs": [],
   "source": [
    "import sim_consts as sc\n",
    "from matplotlib.colors import LogNorm\n",
    "\n",
    "\n",
    "pN_sum = np.sqrt(np.sum(pN, axis=0))\n",
    "pS_sum = np.sqrt(np.sum(pS, axis=0))\n",
    "\n",
    "\n",
    "clims = [0.1,2]\n",
    "tvec = np.linspace(0,sc.T_MAX,sc.NUM_STEPS)\n",
    "\n",
    "plt.figure()\n",
    "# plt.imshow(pS_sum)\n",
    "# plt.subplot(211)\n",
    "# plt.imshow(pN_sum)\n",
    "plt.pcolor(tvec, sc.E_tot_arr*1e-6, pS_sum,  norm=LogNorm(vmin=clims[0], vmax=clims[1]))\n",
    "plt.clim(clims)\n",
    "plt.colorbar()\n",
    "# plt.subplot(212)\n",
    "#plt.imshow(pS_sum)\n",
    "# plt.pcolor(tvec, sc.E_tot_arr, pS_sum)\n",
    "\n",
    "\n",
    "print np.max(pN_sum)\n",
    "print np.max(pS_sum)\n",
    "print sum(sum(sum(np.isnan(pN))))\n",
    "print sum(sum(sum(np.isnan(pS))))\n",
    "\n",
    "\n",
    "\n"
   ]
  },
  {
   "cell_type": "code",
   "execution_count": null,
   "metadata": {
    "collapsed": false
   },
   "outputs": [],
   "source": [
    "print sc.E_MIN\n",
    "print sc.E_MAX\n",
    "\n",
    "print np.log10(sc.E_MAX)\n",
    "print np.log10(sc.E_MIN)\n",
    "\n",
    "logvals = np.arange(np.log10(sc.E_MIN), np.log10(sc.E_MAX)+1)\n",
    "\n",
    "#inds = find(sc.E_tot_arr > logvals)\n",
    "\n",
    "#einds = [np.where(lv > np.log10(sc.E_tot_arr))[0][-1] for lv in logvals]\n",
    "einds =  [np.argmax(lv <= np.log10(sc.E_tot_arr)) for lv in logvals]\n",
    "einds[-1] = sc.NUM_E - 1 \n",
    "\n",
    "print einds"
   ]
  },
  {
   "cell_type": "code",
   "execution_count": null,
   "metadata": {
    "collapsed": false
   },
   "outputs": [],
   "source": [
    "np.arange(0,100,step=0.5)"
   ]
  },
  {
   "cell_type": "code",
   "execution_count": null,
   "metadata": {
    "collapsed": true
   },
   "outputs": [],
   "source": []
  }
 ],
 "metadata": {
  "kernelspec": {
   "display_name": "Python 2",
   "language": "python",
   "name": "python2"
  },
  "language_info": {
   "codemirror_mode": {
    "name": "ipython",
    "version": 2
   },
   "file_extension": ".py",
   "mimetype": "text/x-python",
   "name": "python",
   "nbconvert_exporter": "python",
   "pygments_lexer": "ipython2",
   "version": "2.7.11"
  }
 },
 "nbformat": 4,
 "nbformat_minor": 0
}
